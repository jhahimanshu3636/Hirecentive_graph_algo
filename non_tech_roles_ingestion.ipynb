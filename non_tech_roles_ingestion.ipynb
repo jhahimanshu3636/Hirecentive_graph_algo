{
 "cells": [
  {
   "cell_type": "code",
   "execution_count": 10,
   "id": "538a2082-4086-4c46-8e04-4dba0d1c3a17",
   "metadata": {},
   "outputs": [],
   "source": [
    "import pandas as pd\n",
    "from tqdm import tqdm\n",
    "from neo4j import GraphDatabase\n",
    "import os\n",
    "from dotenv import load_dotenv\n",
    "\n",
    "load_dotenv()\n",
    "\n",
    "uri = os.getenv('uri')\n",
    "user = os.getenv('user')\n",
    "password = os.getenv('password')\n",
    "\n",
    "driver= GraphDatabase.driver(uri, auth=(user, password))"
   ]
  },
  {
   "cell_type": "code",
   "execution_count": null,
   "id": "de82f768",
   "metadata": {},
   "outputs": [],
   "source": []
  },
  {
   "cell_type": "markdown",
   "id": "5f506d14",
   "metadata": {},
   "source": [
    "### Loading ESCO datasets"
   ]
  },
  {
   "cell_type": "code",
   "execution_count": 3,
   "id": "48e4641d-c5fb-4f1f-9a9d-792060593309",
   "metadata": {},
   "outputs": [
    {
     "data": {
      "text/html": [
       "<div>\n",
       "<style scoped>\n",
       "    .dataframe tbody tr th:only-of-type {\n",
       "        vertical-align: middle;\n",
       "    }\n",
       "\n",
       "    .dataframe tbody tr th {\n",
       "        vertical-align: top;\n",
       "    }\n",
       "\n",
       "    .dataframe thead th {\n",
       "        text-align: right;\n",
       "    }\n",
       "</style>\n",
       "<table border=\"1\" class=\"dataframe\">\n",
       "  <thead>\n",
       "    <tr style=\"text-align: right;\">\n",
       "      <th></th>\n",
       "      <th>OCCUPATIONTYPE</th>\n",
       "      <th>OCCUPATIONID</th>\n",
       "      <th>RELATIONTYPE</th>\n",
       "      <th>SKILLID</th>\n",
       "    </tr>\n",
       "  </thead>\n",
       "  <tbody>\n",
       "    <tr>\n",
       "      <th>72682</th>\n",
       "      <td>escooccupation</td>\n",
       "      <td>key_16926</td>\n",
       "      <td>optional</td>\n",
       "      <td>key_2210</td>\n",
       "    </tr>\n",
       "    <tr>\n",
       "      <th>74645</th>\n",
       "      <td>escooccupation</td>\n",
       "      <td>key_16973</td>\n",
       "      <td>essential</td>\n",
       "      <td>key_13999</td>\n",
       "    </tr>\n",
       "    <tr>\n",
       "      <th>83379</th>\n",
       "      <td>escooccupation</td>\n",
       "      <td>key_17185</td>\n",
       "      <td>essential</td>\n",
       "      <td>key_1781</td>\n",
       "    </tr>\n",
       "    <tr>\n",
       "      <th>61923</th>\n",
       "      <td>escooccupation</td>\n",
       "      <td>key_16675</td>\n",
       "      <td>optional</td>\n",
       "      <td>key_1800</td>\n",
       "    </tr>\n",
       "    <tr>\n",
       "      <th>16815</th>\n",
       "      <td>escooccupation</td>\n",
       "      <td>key_15577</td>\n",
       "      <td>optional</td>\n",
       "      <td>key_2624</td>\n",
       "    </tr>\n",
       "  </tbody>\n",
       "</table>\n",
       "</div>"
      ],
      "text/plain": [
       "       OCCUPATIONTYPE OCCUPATIONID RELATIONTYPE    SKILLID\n",
       "72682  escooccupation    key_16926     optional   key_2210\n",
       "74645  escooccupation    key_16973    essential  key_13999\n",
       "83379  escooccupation    key_17185    essential   key_1781\n",
       "61923  escooccupation    key_16675     optional   key_1800\n",
       "16815  escooccupation    key_15577     optional   key_2624"
      ]
     },
     "execution_count": 3,
     "metadata": {},
     "output_type": "execute_result"
    }
   ],
   "source": [
    "occupations = pd.read_csv('ESCO_data/occupations.csv', dtype=str).fillna('').applymap(lambda x: x.lower())\n",
    "isco_groups = pd.read_csv('ESCO_data/ISCOGroups.csv', dtype=str).fillna('').applymap(lambda x: x.lower())\n",
    "occupations_hierarchy = pd.read_csv('ESCO_data/occupations_hierarchy.csv', dtype=str).fillna('').applymap(lambda x: x.lower())\n",
    "skills_data = pd.read_csv('ESCO_data/skills.csv', dtype=str).fillna('').applymap(lambda x: x.lower())\n",
    "skills_occupations_data = pd.read_csv('ESCO_data/occupation_skill_relations.csv',dtype=str).fillna('').applymap(lambda x:x.lower())\n",
    "\n",
    "\n",
    "\n",
    "skills_occupations_data.sample(5)"
   ]
  },
  {
   "cell_type": "markdown",
   "id": "2dffb37d-e55d-4a95-ae65-4835c7957ef3",
   "metadata": {},
   "source": [
    "## Ingesting data"
   ]
  },
  {
   "cell_type": "code",
   "execution_count": 8,
   "id": "5c722986-15aa-457b-82d3-49921404a3d4",
   "metadata": {},
   "outputs": [],
   "source": [
    "from neo4j import GraphDatabase\n",
    "from tqdm import tqdm\n",
    "\n",
    "class Neo4jHandler:\n",
    "    def __init__(self, uri, user, password):\n",
    "        self.driver = GraphDatabase.driver(uri, auth=(user, password))\n",
    "\n",
    "    def close(self):\n",
    "        self.driver.close()\n",
    "\n",
    "    def run_query(self, query):\n",
    "        with self.driver.session() as session:\n",
    "            result = session.run(query)\n",
    "            return [record.data() for record in result]\n",
    "\n",
    "    def create_occupation_nodes(self, df):\n",
    "        failed_rows = []\n",
    "        for _, row in tqdm(df.iterrows()):\n",
    "            try:\n",
    "                query = f\"\"\"\n",
    "                MERGE (c:Occupation {{key_id: '{row['ID']}'}})  \n",
    "                ON CREATE SET \n",
    "                  c.occupation_name = \"{row['PREFERREDLABEL']}\",\n",
    "                  c.origin_url = coalesce('{row['ORIGINURI']}', \"\"),\n",
    "                  c.code = coalesce('{row['CODE']}', \"\"),\n",
    "                  c.description = coalesce(\"{row['DESCRIPTION'].replace('\"','')}\", \"\")\n",
    "                \"\"\"\n",
    "                self.run_query(query)\n",
    "            except Exception as e:\n",
    "                print(f\"Failed to process row: {row}, Error: {e}\")\n",
    "                failed_rows.append(row)\n",
    "        return failed_rows\n",
    "\n",
    "    def create_isco_group_nodes(self, df):\n",
    "        failed_rows = []\n",
    "        for _, row in tqdm(df.iterrows()):\n",
    "            try:\n",
    "                query = f\"\"\"\n",
    "                MERGE (c:ISCO_group {{key_id: '{row['ID']}'}})  \n",
    "                ON CREATE SET \n",
    "                  c.occupation_name = \"{row['PREFERREDLABEL']}\",\n",
    "                  c.origin_url = coalesce('{row['ORIGINURI']}', \"\"),\n",
    "                  c.code = coalesce('{row['CODE']}', \"\"),\n",
    "                  c.description = coalesce(\"{row['DESCRIPTION'].replace('\"','')}\", \"\")\n",
    "                \"\"\"\n",
    "                self.run_query(query)\n",
    "            except Exception as e:\n",
    "                print(f\"Failed to process row: {row}, Error: {e}\")\n",
    "                failed_rows.append(row)\n",
    "        return failed_rows\n",
    "\n",
    "    def create_isco_hierarchy(self, df):\n",
    "        failed_rows = []\n",
    "        for _, row in tqdm(df.iterrows()):\n",
    "            try:\n",
    "                query = f\"\"\"\n",
    "                MATCH (a:ISCO_group {{key_id: '{row['PARENTID']}'}}), (b:ISCO_group {{key_id: '{row['CHILDID']}'}})\n",
    "                MERGE (a)<-[r:HAS_PARENT_OCCUPATION]-(b)\n",
    "                \"\"\"\n",
    "                self.run_query(query)\n",
    "            except Exception as e:\n",
    "                print(f\"Failed to process row: {row}, Error: {e}\")\n",
    "                failed_rows.append(row)\n",
    "        return failed_rows\n",
    "\n",
    "    def create_occupation_isco_hierarchy(self, df):\n",
    "        failed_rows = []\n",
    "        for _, row in tqdm(df.iterrows()):\n",
    "            try:\n",
    "                query = f\"\"\"\n",
    "                MATCH (a:ISCO_group {{key_id: '{row['PARENTID']}'}}), (b:Occupation {{key_id: '{row['CHILDID']}'}})\n",
    "                MERGE (a)<-[r:HAS_PARENT_OCCUPATION]-(b)\n",
    "                \"\"\"\n",
    "                self.run_query(query)\n",
    "            except Exception as e:\n",
    "                print(f\"Failed to process row: {row}, Error: {e}\")\n",
    "                failed_rows.append(row)\n",
    "        return failed_rows\n",
    "\n",
    "    def create_occupation_hierarchy(self, df):\n",
    "        failed_rows = []\n",
    "        for _, row in tqdm(df.iterrows()):\n",
    "            try:\n",
    "                query = f\"\"\"\n",
    "                MATCH (a:Occupation {{key_id: '{row['PARENTID']}'}}), (b:Occupation {{key_id: '{row['CHILDID']}'}})\n",
    "                MERGE (a)<-[r:HAS_PARENT_OCCUPATION]-(b)\n",
    "                \"\"\"\n",
    "                self.run_query(query)\n",
    "            except Exception as e:\n",
    "                print(f\"Failed to process row: {row}, Error: {e}\")\n",
    "                failed_rows.append(row)\n",
    "        return failed_rows\n",
    "\n",
    "    def create_skill_nodes(self, df):\n",
    "        failed_rows = []\n",
    "        for _, row in tqdm(df.iterrows()):\n",
    "            try:\n",
    "                query = f\"\"\"\n",
    "                MERGE (c:Skill {{key_id: '{row['ID']}'}})  \n",
    "                ON CREATE SET \n",
    "                  c.skill_name = \"{row['PREFERREDLABEL']}\",\n",
    "                  c.origin_url = coalesce('{row['ORIGINURI']}', \"\"),\n",
    "                  c.skill_type = coalesce('{row['SKILLTYPE']}', \"\"),\n",
    "                  c.description = coalesce(\"{row['DESCRIPTION'].replace('\"','')}\", \"\")\n",
    "                \"\"\"\n",
    "                self.run_query(query)\n",
    "            except Exception as e:\n",
    "                print(f\"Failed to process row: {row}, Error: {e}\")\n",
    "                failed_rows.append(row)\n",
    "        return failed_rows\n",
    "\n",
    "    def create_skill_occupation_relation(self, df):\n",
    "        failed_rows = []\n",
    "        for _, row in tqdm(df.iterrows()):\n",
    "            try:\n",
    "                query = f\"\"\"\n",
    "                MATCH (a:Occupation {{key_id: '{row['OCCUPATIONID']}'}}), (b:Skill {{key_id: '{row['SKILLID']}'}})\n",
    "                MERGE (a)-[r:HAS_SKILL]->(b)\n",
    "                SET r.type = '{row['RELATIONTYPE']}'\n",
    "                \"\"\"\n",
    "                self.run_query(query)\n",
    "            except Exception as e:\n",
    "                print(f\"Failed to process row: {row}, Error: {e}\")\n",
    "                failed_rows.append(row)\n",
    "        return failed_rows\n"
   ]
  },
  {
   "cell_type": "code",
   "execution_count": 2,
   "id": "7a4a29bf-599d-4360-a42b-331bfaaf9caf",
   "metadata": {},
   "outputs": [],
   "source": [
    "## ingesting Occupations\n",
    "neo4j_handler = Neo4jHandler(uri, user, password)\n",
    "\n",
    "failed_rows_occupation = neo4j_handler.create_occupation_nodes(occupations)\n",
    "print('occupations ingested')\n",
    "\n",
    "failed_rows_isco_group = neo4j_handler.create_isco_group_nodes(isco_groups) \n",
    "print('isco_groups ingested')\n",
    "\n",
    "failed_rows_isco_group_hierarchy = neo4j_handler.create_isco_hierarchy(occupations_hierarchy) \n",
    "print('occupations_hierarchy ingested')\n",
    "failed_rows_occupation_isco_hierarchy = neo4j_handler.create_occupation_isco_hierarchy(occupations_hierarchy)\n",
    "print('occupations_hierarchy ingested')\n",
    "failed_rows_occupation_hierarchy = neo4j_handler.create_occupation_hierarchy(occupations_hierarchy)\n",
    "print('occupations_hierarchy ingested')\n",
    "\n",
    "failed_row_skill = neo4j_handler.create_skill_nodes(skills_data)\n",
    "print(f'failed_row_skill {failed_row_skill}')\n",
    "failed_rows_skill_occupation_relation = neo4j_handler.create_skill_occupation_relation(skills_occupations_data)\n",
    "print(f'failed_rows_skill_occupation_relation {failed_rows_skill_occupation_relation}')\n",
    "neo4j_handler.close()"
   ]
  },
  {
   "cell_type": "code",
   "execution_count": null,
   "id": "a2bd6576-5cb4-4852-b3ef-fbf66ab76fb8",
   "metadata": {},
   "outputs": [],
   "source": []
  },
  {
   "cell_type": "markdown",
   "id": "ce7b91fc-c9ac-4a24-b24f-b40918c46873",
   "metadata": {},
   "source": [
    "## Vector index creation on skill "
   ]
  },
  {
   "cell_type": "code",
   "execution_count": 3,
   "id": "7ef7bc7e-6989-4ff7-85ab-494a074090af",
   "metadata": {},
   "outputs": [],
   "source": [
    "from langchain.vectorstores.neo4j_vector import Neo4jVector\n",
    "\n",
    "## If OPENAI key is present\n",
    "from langchain.embeddings.openai import OpenAIEmbeddings\n",
    "embeddings = \"text-embedding-3-small\" \n",
    "\n",
    "## If Google API key is present \n",
    "from langchain_google_genai import GoogleGenerativeAIEmbeddings\n",
    "embeddings = GoogleGenerativeAIEmbeddings(model=\"models/embedding-001\")\n"
   ]
  },
  {
   "cell_type": "code",
   "execution_count": 7,
   "id": "0d80f71f-80b5-4872-a49a-505edd807dd1",
   "metadata": {},
   "outputs": [],
   "source": [
    "graph_vector_index = Neo4jVector.from_existing_graph(\n",
    "    embedding = embeddings,\n",
    "    url=uri,\n",
    "    username=user,\n",
    "    password=password,\n",
    "    index_name='skills',\n",
    "    node_label=\"Skill\",\n",
    "    text_node_properties=['skill_name','description'],\n",
    "    embedding_node_property='embedding',\n",
    ")"
   ]
  },
  {
   "cell_type": "code",
   "execution_count": 59,
   "id": "9158bf3b-0db0-4b1b-8da5-7cbcf34cb390",
   "metadata": {},
   "outputs": [],
   "source": [
    "hr_topics = [\n",
    "    \"Employee relations management\",\n",
    "    \"Recruitment and selection processes\",\n",
    "    \"Performance management systems\",\n",
    "    \"Compensation and benefits administration\",\n",
    "    \"Labor law and employment regulations\",\n",
    "    \"Training and development programs\",\n",
    "    \"Conflict resolution and negotiation skills\"\n",
    "]\n",
    "\n",
    "\n",
    "sales_skills = [\n",
    "    \"Customer relationship management (CRM)\",\n",
    "    \"Sales strategies and techniques\",\n",
    "    \"Negotiation and persuasion\",\n",
    "    \"Product knowledge and presentation\",\n",
    "    \"Market and competitor analysis\",\n",
    "    \"Closing sales and follow-ups\",\n",
    "    \"Communication and interpersonal skills\"\n",
    "]\n",
    "\n",
    "topics = [\n",
    "    \"Financial analysis\",\n",
    "    \"Investment management\",\n",
    "    \"Portfolio management\",\n",
    "    \"Risk management\",\n",
    "    \"Asset allocation\",\n",
    "    \"Equity research\",\n",
    "    \"Fixed income analysis\",\n",
    "    \"Quantitative analysis\",\n",
    "    \"Performance measurement\",\n",
    "    \"Investment strategy development\",\n",
    "    \"Market analysis\",\n",
    "    \"Financial modeling\",\n",
    "    \"Valuation techniques\",\n",
    "    \"Investment selection\",\n",
    "    \"Asset pricing\"\n",
    "]\n",
    "\n"
   ]
  },
  {
   "cell_type": "code",
   "execution_count": 62,
   "id": "6cfdc8f9-642f-4f50-a6c5-a6ad0130dee6",
   "metadata": {},
   "outputs": [],
   "source": [
    "total_skills = []\n",
    "for skill in topics:\n",
    "    skill_lst = []\n",
    "    result = vector_index.similarity_search(skill, k=3)\n",
    "    skill_lst = [val.page_content.split('\\n')[1].split(':')[-1].strip(' ') for val in result]\n",
    "    total_skills.extend(skill_lst)"
   ]
  },
  {
   "cell_type": "code",
   "execution_count": 63,
   "id": "b0d7d65e-f0cb-4feb-b50f-ca8e37e20e68",
   "metadata": {},
   "outputs": [
    {
     "data": {
      "text/plain": [
       "['economics',\n",
       " 'follow a brief',\n",
       " 'job market offers',\n",
       " 'risk management',\n",
       " 'manage financial risk',\n",
       " 'manage several projects',\n",
       " 'implement hedging strategies for clients',\n",
       " 'parts pricing',\n",
       " 'monitor stock market',\n",
       " 'make investment decisions',\n",
       " 'monitor bond market',\n",
       " 'market analysis',\n",
       " 'manage commercial risks',\n",
       " 'perform market research',\n",
       " 'market participants',\n",
       " 'meet productivity targets',\n",
       " 'games rules',\n",
       " 'manage securities trading',\n",
       " 'cloud monitoring and reporting',\n",
       " 'operate financial instruments',\n",
       " 'assist in fund management',\n",
       " 'manage profitability',\n",
       " 'advise on investment',\n",
       " 'review investment portfolios',\n",
       " 'perform financial analysis on price strategies',\n",
       " 'analyse experimental laboratory data']"
      ]
     },
     "execution_count": 63,
     "metadata": {},
     "output_type": "execute_result"
    }
   ],
   "source": [
    "total_skills = list(set(total_skills))\n",
    "total_skills\n"
   ]
  },
  {
   "cell_type": "code",
   "execution_count": 49,
   "id": "722be111-047b-47ce-9abc-bc17665bff10",
   "metadata": {
    "scrolled": true
   },
   "outputs": [],
   "source": [
    "neo4j_handler = Neo4jHandler(uri, user, password)\n",
    "occupation_dict = {}\n",
    "non_matched_skills = []\n",
    "for skill in total_skills:\n",
    "    \n",
    "    try:\n",
    "        query = f'''MATCH (s:Skill {{skill_name:'{skill}'}})<-[:HAS_SKILL]-(o:Occupation) RETURN DISTINCT(o.occupation_name)'''\n",
    "        result = neo4j_handler.run_query(query)\n",
    "        occupation_lst = []\n",
    "        occupation_lst = [val['(o.occupation_name)'] for val in result]\n",
    "        \n",
    "        for occupation in occupation_lst:\n",
    "            if occupation in occupation_dict.keys():\n",
    "                occupation_dict[occupation] += 1\n",
    "            elif occupation not in occupation_dict.keys():\n",
    "                occupation_dict[occupation] = 1\n",
    "    except:\n",
    "        non_matched_skills.append(skill)\n"
   ]
  },
  {
   "cell_type": "code",
   "execution_count": 50,
   "id": "609027f9-32fd-465f-9dc3-f84b8e932309",
   "metadata": {},
   "outputs": [
    {
     "name": "stdout",
     "output_type": "stream",
     "text": [
      "human resources manager: 7\n",
      "service manager: 6\n",
      "corporate training manager: 5\n",
      "marketing manager: 5\n",
      "special-interest groups' official: 4\n"
     ]
    }
   ],
   "source": [
    "top_3_jobs = sorted(occupation_dict.items(), key=lambda x: x[1], reverse=True)[:5]\n",
    "\n",
    "# Print the top 3 keys and their values\n",
    "for job, count in top_3_jobs:\n",
    "    print(f\"{job}: {count}\")"
   ]
  },
  {
   "cell_type": "code",
   "execution_count": 51,
   "id": "a2a17661-aa09-41ac-a932-1897fa86e9ee",
   "metadata": {},
   "outputs": [],
   "source": [
    "query = f'''MATCH (o:Occupation{{occupation_name:\"human resources manager\"}}) RETURN DISTINCT(o.description)'''\n",
    "result = neo4j_handler.run_query(query)"
   ]
  },
  {
   "cell_type": "code",
   "execution_count": 52,
   "id": "a1ba338e-d52c-4c06-a681-a96d9a0e049a",
   "metadata": {},
   "outputs": [
    {
     "data": {
      "text/plain": [
       "[{'(o.description)': \"human resources managers plan, design and implement processes related to the human capital of companies. they develop programs for recruiting, interviewing, and selecting employees based on a previous assessment of the profile and skills required in the company. moreover, they manage compensation and development programs for the company's employees comprising trainings, skill assessment and yearly evaluations, promotion, expat programs, and general assurance of the well-being of the employees in the workplace.\"}]"
      ]
     },
     "execution_count": 52,
     "metadata": {},
     "output_type": "execute_result"
    }
   ],
   "source": [
    "result"
   ]
  },
  {
   "cell_type": "markdown",
   "id": "8a45b104-9198-4b8a-b596-2fb1612f6fac",
   "metadata": {},
   "source": []
  },
  {
   "cell_type": "code",
   "execution_count": null,
   "id": "f13355d9",
   "metadata": {},
   "outputs": [],
   "source": []
  },
  {
   "cell_type": "code",
   "execution_count": null,
   "id": "44d4dec3",
   "metadata": {},
   "outputs": [],
   "source": []
  }
 ],
 "metadata": {
  "kernelspec": {
   "display_name": "Python 3 (ipykernel)",
   "language": "python",
   "name": "python3"
  },
  "language_info": {
   "codemirror_mode": {
    "name": "ipython",
    "version": 3
   },
   "file_extension": ".py",
   "mimetype": "text/x-python",
   "name": "python",
   "nbconvert_exporter": "python",
   "pygments_lexer": "ipython3",
   "version": "3.8.2"
  }
 },
 "nbformat": 4,
 "nbformat_minor": 5
}
