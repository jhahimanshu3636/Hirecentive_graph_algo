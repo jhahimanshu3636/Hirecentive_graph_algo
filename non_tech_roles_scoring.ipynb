{
 "cells": [
  {
   "cell_type": "code",
   "execution_count": 136,
   "id": "538a2082-4086-4c46-8e04-4dba0d1c3a17",
   "metadata": {},
   "outputs": [],
   "source": [
    "import pandas as pd\n",
    "from tqdm import tqdm\n",
    "from neo4j import GraphDatabase\n",
    "import os\n",
    "from dotenv import load_dotenv\n",
    "\n",
    "load_dotenv()\n",
    "uri = os.getenv('uri')\n",
    "user = os.getenv('user')\n",
    "password = os.getenv('password')\n",
    "\n",
    "driver= GraphDatabase.driver(uri, auth=(user, password))"
   ]
  },
  {
   "cell_type": "code",
   "execution_count": 59,
   "id": "9158bf3b-0db0-4b1b-8da5-7cbcf34cb390",
   "metadata": {},
   "outputs": [],
   "source": [
    "## sample skills to test\n",
    "\n",
    "hr_topics = [\n",
    "    \"Employee relations management\",\n",
    "    \"Recruitment and selection processes\",\n",
    "    \"Performance management systems\",\n",
    "    \"Compensation and benefits administration\",\n",
    "    \"Labor law and employment regulations\",\n",
    "    \"Training and development programs\",\n",
    "    \"Conflict resolution and negotiation skills\"\n",
    "]\n",
    "\n",
    "\n",
    "sales_skills = [\n",
    "    \"Customer relationship management (CRM)\",\n",
    "    \"Sales strategies and techniques\",\n",
    "    \"Negotiation and persuasion\",\n",
    "    \"Product knowledge and presentation\",\n",
    "    \"Market and competitor analysis\",\n",
    "    \"Closing sales and follow-ups\",\n",
    "    \"Communication and interpersonal skills\"\n",
    "]\n",
    "\n",
    "topics = [\n",
    "    \"Financial analysis\",\n",
    "    \"Investment management\",\n",
    "    \"Portfolio management\",\n",
    "    \"Risk management\",\n",
    "    \"Asset allocation\",\n",
    "    \"Equity research\",\n",
    "    \"Fixed income analysis\",\n",
    "    \"Quantitative analysis\",\n",
    "    \"Performance measurement\",\n",
    "    \"Investment strategy development\",\n",
    "    \"Market analysis\",\n",
    "    \"Financial modeling\",\n",
    "    \"Valuation techniques\",\n",
    "    \"Investment selection\",\n",
    "    \"Asset pricing\"\n",
    "]\n"
   ]
  },
  {
   "cell_type": "code",
   "execution_count": null,
   "id": "d47bf1cf",
   "metadata": {},
   "outputs": [],
   "source": [
    "from langchain.vectorstores.neo4j_vector import Neo4jVector\n",
    "\n",
    "## If OPENAI key is present\n",
    "from langchain.embeddings.openai import OpenAIEmbeddings\n",
    "embeddings = \"text-embedding-3-small\" \n",
    "\n",
    "## If Google API key is present \n",
    "from langchain_google_genai import GoogleGenerativeAIEmbeddings\n",
    "embeddings = GoogleGenerativeAIEmbeddings(model=\"models/embedding-001\")\n",
    "\n",
    "graph_vector_index = Neo4jVector.from_existing_graph(\n",
    "    embedding = embeddings,\n",
    "    url=uri,\n",
    "    username=user,\n",
    "    password=password,\n",
    "    index_name='skills',\n",
    "    node_label=\"Skill\",\n",
    "    text_node_properties=['skill_name','description'],\n",
    "    embedding_node_property='embedding',\n",
    ")"
   ]
  },
  {
   "cell_type": "code",
   "execution_count": 62,
   "id": "6cfdc8f9-642f-4f50-a6c5-a6ad0130dee6",
   "metadata": {},
   "outputs": [],
   "source": [
    "total_skills = []\n",
    "for skill in topics:\n",
    "    skill_lst = []\n",
    "    result = graph_vector_index.similarity_search(skill, k=3)\n",
    "    skill_lst = [val.page_content.split('\\n')[1].split(':')[-1].strip(' ') for val in result]\n",
    "    total_skills.extend(skill_lst)\n",
    "\n",
    "total_skills = list(set(total_skills))"
   ]
  },
  {
   "cell_type": "markdown",
   "id": "3179a0b8",
   "metadata": {},
   "source": [
    "#### Appropriate Occupation extraction from skills"
   ]
  },
  {
   "cell_type": "code",
   "execution_count": 49,
   "id": "722be111-047b-47ce-9abc-bc17665bff10",
   "metadata": {
    "scrolled": true
   },
   "outputs": [],
   "source": [
    "neo4j_handler = Neo4jHandler(uri, user, password)\n",
    "occupation_dict = {}\n",
    "non_matched_skills = []\n",
    "for skill in total_skills:\n",
    "    \n",
    "    try:\n",
    "        query = f'''MATCH (s:Skill {{skill_name:'{skill}'}})<-[:HAS_SKILL]-(o:Occupation) RETURN DISTINCT(o.occupation_name)'''\n",
    "        result = neo4j_handler.run_query(query)\n",
    "        occupation_lst = []\n",
    "        occupation_lst = [val['(o.occupation_name)'] for val in result]\n",
    "        \n",
    "        for occupation in occupation_lst:\n",
    "            if occupation in occupation_dict.keys():\n",
    "                occupation_dict[occupation] += 1\n",
    "            elif occupation not in occupation_dict.keys():\n",
    "                occupation_dict[occupation] = 1\n",
    "    except:\n",
    "        non_matched_skills.append(skill)\n",
    "\n",
    "\n",
    "top_k_jobs = sorted(occupation_dict.items(), key=lambda x: x[1], reverse=True)[:5]\n",
    "\n",
    "# Print the top k keys and their values\n",
    "for job, count in top_k_jobs:\n",
    "    print(f\"{job}: {count}\")\n"
   ]
  },
  {
   "cell_type": "code",
   "execution_count": 51,
   "id": "a2a17661-aa09-41ac-a932-1897fa86e9ee",
   "metadata": {},
   "outputs": [],
   "source": [
    "## Fetching of description for occupation\n",
    "\n",
    "query = f'''MATCH (o:Occupation{{occupation_name:\"human resources manager\"}}) RETURN DISTINCT(o.description)'''\n",
    "result = neo4j_handler.run_query(query)\n",
    "print(result)"
   ]
  },
  {
   "cell_type": "markdown",
   "id": "8a45b104-9198-4b8a-b596-2fb1612f6fac",
   "metadata": {},
   "source": [
    "## Comparing Non-Tech skills"
   ]
  },
  {
   "cell_type": "code",
   "execution_count": 24,
   "id": "bba9be72-ba14-42af-a883-f803ef753d41",
   "metadata": {},
   "outputs": [],
   "source": [
    " skills_lst_1  = [\n",
    "    \"Financial analysis\",\n",
    "    \"Investment management\",\n",
    "    \"Portfolio management\",\n",
    "    \"Risk management\",\n",
    "    \"Asset allocation\",\n",
    "    \"Equity research\",\n",
    "    \"Fixed income analysis\",\n",
    "    \"Quantitative analysis\",\n",
    "    \"Performance measurement\",\n",
    "    \"Investment strategy development\",\n",
    "    \"Market analysis\",\n",
    "    \"Financial modeling\",\n",
    "    \"Valuation techniques\",\n",
    "    \"Investment selection\",\n",
    "    \"Asset pricing\"\n",
    "]\n",
    "\n",
    "skills_lst_2 = [\n",
    "    \"Financial analysis\",\n",
    "    \"Investment management\",\n",
    "    \"Risk management skills\",\n",
    "    \"Asset allocation\",\n",
    "    \"Equity research\",\n",
    "    \"Quantitative analysis expert\",\n",
    "    \"Investment strategy development\",\n",
    "    \"Market analysis\",\n",
    "    \"expert in Financial modeling\",\n",
    "    \"Good in Valuation techniques\",\n",
    "    \"Asset pricing\"\n",
    "]\n"
   ]
  },
  {
   "cell_type": "code",
   "execution_count": 25,
   "id": "36e5daca-5baa-43ba-8a69-094ee4d750da",
   "metadata": {},
   "outputs": [],
   "source": [
    "import os\n",
    "import faiss\n",
    "from uuid import uuid4\n",
    "from langchain_google_genai import GoogleGenerativeAIEmbeddings\n",
    "from langchain_openai import OpenAIEmbeddings\n",
    "from langchain_community.docstore.in_memory import InMemoryDocstore\n",
    "from langchain_core.documents import Document\n",
    "from langchain_community.vectorstores import FAISS"
   ]
  },
  {
   "cell_type": "code",
   "execution_count": 26,
   "id": "1da72d05-7e9b-48a5-b14d-b86b2f8819dc",
   "metadata": {},
   "outputs": [],
   "source": [
    "\n",
    "\n",
    "def expand_skill_lst(skill_lst):\n",
    "    expanded_skill_lst = []\n",
    "    for skill in skills_lst_1:\n",
    "        skill_lst = []\n",
    "        result = vector_index.similarity_search(skill, k=4)\n",
    "        skill_lst = [val.page_content.split('\\n')[1].split(':')[-1].strip(' ') for val in result]\n",
    "        total_skills.extend(skill_lst)\n",
    "\n",
    "    expanded_skill_lst = list(set(total_skills))\n",
    "    return expanded_skill_lst\n",
    "\n",
    "expanded_skill_lst_1 = expand_skill_lst(skills_lst_1)\n",
    "expanded_skill_lst_2 = expand_skill_lst(skills_lst_2)"
   ]
  },
  {
   "cell_type": "code",
   "execution_count": 27,
   "id": "71a77ac2-b578-46dd-9ccb-42094b420ed4",
   "metadata": {},
   "outputs": [
    {
     "name": "stdout",
     "output_type": "stream",
     "text": [
      "17   17\n"
     ]
    }
   ],
   "source": [
    "numerator_count = 0\n",
    "denominator_count = 0\n",
    "for skill_1 in expanded_skill_lst_1:\n",
    "    if skill_1 in expanded_skill_lst_2:\n",
    "        numerator_count += 1\n",
    "        denominator_count += 1\n",
    "        expanded_skill_lst_1.remove(skill_1)\n",
    "        expanded_skill_lst_2.remove(skill_1)\n",
    "        continue\n",
    "\n",
    "print(numerator_count,' ',denominator_count)"
   ]
  },
  {
   "cell_type": "markdown",
   "id": "414f7831-b697-49e3-aee1-01ca63d866f9",
   "metadata": {},
   "source": [
    "## Using FAISS"
   ]
  },
  {
   "cell_type": "code",
   "execution_count": 42,
   "id": "f0de394e-dc10-42e4-bbba-f3e40c6dacd2",
   "metadata": {},
   "outputs": [],
   "source": [
    "import faiss\n",
    "import numpy as np\n",
    "from sklearn.preprocessing import normalize\n",
    "from langchain.embeddings import OpenAIEmbeddings\n",
    "import pickle \n",
    "\n",
    "embeddings_model = OpenAIEmbeddings(model=\"text-embedding-3-large\")\n",
    "\n",
    "def get_openai_embeddings(texts):\n",
    "    embeddings = embeddings_model.embed_documents(texts)\n",
    "    return np.array(embeddings)\n",
    "\n",
    "\n",
    "def build_faiss_index(index_list):\n",
    "    index_vectors = get_openai_embeddings(index_list)\n",
    "    \n",
    "    # Normalize vectors to use cosine similarity\n",
    "    index_vectors = normalize(index_vectors, norm='l2')\n",
    "    \n",
    "    dimension = index_vectors.shape[1]  \n",
    "    index = faiss.IndexFlatIP(dimension)  # Using Inner Product (IP) for cosine similarity\n",
    "    index.add(index_vectors)  # Add index vectors to the FAISS index\n",
    "    \n",
    "    return index\n",
    "\n",
    "def save_index_to_memory(faiss_index):\n",
    "    return faiss.serialize_index(faiss_index)\n",
    "\n",
    "def load_index_from_memory(serialized_index):\n",
    "    return faiss.deserialize_index(serialized_index)\n",
    "\n",
    "def fetch_top_k_results(faiss_index, index_list, query, k=5):\n",
    "    query_vector = get_openai_embeddings([query])[0].reshape(1, -1)  \n",
    "    \n",
    "    query_vector = normalize(query_vector, norm='l2')\n",
    "    \n",
    "    distances, top_indices = faiss_index.search(query_vector, k)  \n",
    "    top_results = [(index_list[i], float(dist)) for i, dist in zip(top_indices[0], distances[0])]\n",
    "    \n",
    "    return top_results\n",
    "\n",
    "index_list = skills_lst_1\n",
    "\n",
    "faiss_index = build_faiss_index(index_list)\n",
    "serialized_index = save_index_to_memory(faiss_index)\n",
    "\n",
    "loaded_faiss_index = load_index_from_memory(serialized_index)"
   ]
  },
  {
   "cell_type": "code",
   "execution_count": 44,
   "id": "8af2db79-ecea-44bd-969f-71e647c6ee00",
   "metadata": {},
   "outputs": [
    {
     "name": "stdout",
     "output_type": "stream",
     "text": [
      "[('Risk management', 0.8069169521331787), ('Portfolio management', 0.4653838574886322), ('Investment management', 0.4617082476615906)]\n"
     ]
    }
   ],
   "source": [
    "query = \"Risk management skills\"\n",
    "k = 3  \n",
    "\n",
    "results = fetch_top_k_results(loaded_faiss_index, index_list, query, k)\n",
    "print(results)\n"
   ]
  }
 ],
 "metadata": {
  "kernelspec": {
   "display_name": "Python 3 (ipykernel)",
   "language": "python",
   "name": "python3"
  },
  "language_info": {
   "codemirror_mode": {
    "name": "ipython",
    "version": 3
   },
   "file_extension": ".py",
   "mimetype": "text/x-python",
   "name": "python",
   "nbconvert_exporter": "python",
   "pygments_lexer": "ipython3",
   "version": "3.12.3"
  }
 },
 "nbformat": 4,
 "nbformat_minor": 5
}
