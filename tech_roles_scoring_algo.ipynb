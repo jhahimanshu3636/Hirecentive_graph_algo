{
 "cells": [
  {
   "cell_type": "code",
   "execution_count": 1,
   "id": "4d5e378e",
   "metadata": {},
   "outputs": [],
   "source": [
    "import os\n",
    "from dotenv import load_dotenv\n",
    "\n",
    "load_dotenv()\n",
    "uri = os.getenv('uri')\n",
    "user = os.getenv('user')\n",
    "password = os.getenv('password')"
   ]
  },
  {
   "cell_type": "markdown",
   "id": "04d442df",
   "metadata": {},
   "source": [
    "## Tech score similarity function"
   ]
  },
  {
   "cell_type": "code",
   "execution_count": 114,
   "id": "887510ff-254c-4204-befd-7ebe7858d262",
   "metadata": {},
   "outputs": [],
   "source": [
    "import os\n",
    "from neo4j import GraphDatabase\n",
    "\n",
    "\n",
    "driver = GraphDatabase.driver(uri, auth=(user, password))\n",
    "\n",
    "\n",
    "def run_query(query):\n",
    "    with driver.session() as session:\n",
    "        result = session.run(query)\n",
    "        records = list(result)\n",
    "    return records\n",
    "\n",
    "def fetch_prerequisite_nodes(node_name):\n",
    "    query = f'''\n",
    "    MATCH (n:Framework {{name: '{node_name}'}})-[:REQUIRES*1..3]->(b)\n",
    "    RETURN DISTINCT b.name AS name\n",
    "    '''\n",
    "    return [record[\"name\"] for record in run_query(query)]\n",
    "\n",
    "def fetch_similar_nodes(node_name):\n",
    "    query = f'''\n",
    "    MATCH (n:Framework {{name: '{node_name}'}})-[:RELATED_TO*1..3]-(b)\n",
    "    RETURN DISTINCT b.name AS name\n",
    "    '''\n",
    "    return [record[\"name\"] for record in run_query(query)]\n",
    "\n",
    "def fetch_domain_name(node_name):\n",
    "    query = f'''\n",
    "    MATCH (n:Framework {{name: '{node_name}'}})-[:IN_DOMAIN]->(b)\n",
    "    RETURN DISTINCT b.name AS name\n",
    "    '''\n",
    "    records = run_query(query)\n",
    "    return [record[\"name\"] for record in records] if records else []\n",
    "\n",
    "def compare_node_domains(domain_lst_1, domain_lst_2):\n",
    "    if domain_lst_1 and domain_lst_2:\n",
    "        if set(domain_lst_1) == set(domain_lst_2):\n",
    "            return True\n",
    "        return any(domain in domain_lst_2 for domain in domain_lst_1)\n",
    "    return False\n",
    "\n",
    "\n",
    "def calculate_similarity_score(skills1, skills2):\n",
    "    numerator_count = 0\n",
    "    denominator_count = 0\n",
    "\n",
    "    for skill1 in skills1:\n",
    "        if skill1 in skills2:\n",
    "            numerator_count += 1\n",
    "            denominator_count += 1\n",
    "            continue\n",
    "\n",
    "        same_domain_count = 0\n",
    "        skill1_prerequisite_nodes = fetch_prerequisite_nodes(skill1)\n",
    "        skill1_domain = fetch_domain_name(skill1)\n",
    "\n",
    "        for skill2 in skills2:\n",
    "            prerequisite_nodes = fetch_prerequisite_nodes(skill2)\n",
    "            similar_nodes = fetch_similar_nodes(skill2)\n",
    "            skill2_domain = fetch_domain_name(skill2)\n",
    "\n",
    "            if skill1 in prerequisite_nodes:\n",
    "                numerator_count += 1\n",
    "                denominator_count += 1\n",
    "                break\n",
    "            elif skill1 in similar_nodes:\n",
    "                numerator_count += 0.5\n",
    "                denominator_count += 1\n",
    "            elif compare_node_domains(skill1_domain, skill2_domain):\n",
    "                same_domain_count += 1\n",
    "            elif skill2 in skill1_prerequisite_nodes:\n",
    "                numerator_count += 0.5\n",
    "                denominator_count += 1\n",
    "\n",
    "        if same_domain_count >= 2:\n",
    "            numerator_count += 0.4\n",
    "            denominator_count += 1\n",
    "\n",
    "        if denominator_count == 0:\n",
    "            denominator_count += 1\n",
    "\n",
    "    score = round(numerator_count / denominator_count, 2) if denominator_count > 0 else 0\n",
    "    return score\n"
   ]
  },
  {
   "cell_type": "code",
   "execution_count": 123,
   "id": "0cbd506b-9dd8-410a-9284-1c974f86f9ae",
   "metadata": {},
   "outputs": [
    {
     "name": "stdout",
     "output_type": "stream",
     "text": [
      "Score: 0.45\n"
     ]
    }
   ],
   "source": [
    "skills1 = ['React']\n",
    "skills2 = ['Ember.js','Backbone.js','Vue.js','JavaScript']\n",
    "\n",
    "score = calculate_similarity_score(skills1, skills2)\n",
    "print(f'Score: {score}')"
   ]
  },
  {
   "cell_type": "code",
   "execution_count": 125,
   "id": "9adf56dc-dadd-48ff-af40-d0011d662033",
   "metadata": {},
   "outputs": [],
   "source": [
    "driver.close()"
   ]
  },
  {
   "cell_type": "code",
   "execution_count": null,
   "id": "eb46c60a-82e4-4b0f-a36f-122db1757559",
   "metadata": {},
   "outputs": [],
   "source": [
    "# skillset examples\n",
    "\n",
    "skills1 = ['Express.js', 'JavaScript', 'TypeScript']\n",
    "skills2 = ['NestJS', 'TypeScript']\n",
    "\n",
    "\n",
    "skills1 = ['Django', 'Python']\n",
    "skills2 = ['Flask']\n",
    "\n",
    "skills1 = ['React']\n",
    "skills2 = ['Ember.js','Backbone.js','Vue.js']\n",
    "\n",
    "skills1 = ['React','JavaScript']\n",
    "skills2 = ['Ember.js','Backbone.js','Vue.js']"
   ]
  }
 ],
 "metadata": {
  "kernelspec": {
   "display_name": "Python 3 (ipykernel)",
   "language": "python",
   "name": "python3"
  },
  "language_info": {
   "codemirror_mode": {
    "name": "ipython",
    "version": 3
   },
   "file_extension": ".py",
   "mimetype": "text/x-python",
   "name": "python",
   "nbconvert_exporter": "python",
   "pygments_lexer": "ipython3",
   "version": "3.11.5"
  }
 },
 "nbformat": 4,
 "nbformat_minor": 5
}
